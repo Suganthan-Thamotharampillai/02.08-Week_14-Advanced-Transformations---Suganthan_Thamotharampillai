{
 "cells": [
  {
   "cell_type": "markdown",
   "id": "9b98612f",
   "metadata": {},
   "source": [
    "<br><br><font size=6><b>Project 3: </b></font><font size=6>Part 2 - <span style=\"color:#7e6c94;font-size:29px;\">Extract from TMDB</span></font>"
   ]
  },
  {
   "cell_type": "markdown",
   "id": "8aee5e14",
   "metadata": {},
   "source": [
    "<font size=3><ul><li>Suganthan Thamotharampillai\n",
    "<br><li>02.08.2023"
   ]
  },
  {
   "cell_type": "markdown",
   "id": "79ff9f8c",
   "metadata": {},
   "source": [
    "<br><font size=5><b>Imports"
   ]
  },
  {
   "cell_type": "code",
   "execution_count": 2,
   "id": "a8e82f69",
   "metadata": {},
   "outputs": [],
   "source": [
    "# LIBRARIES\n",
    "import pandas as pd\n",
    "import numpy as np\n",
    "import matplotlib.pyplot as plt\n",
    "import seaborn as sns\n",
    "import os, json, math, time\n",
    "import tmdbsimple as tmdb\n",
    "from tqdm.notebook import tqdm_notebook"
   ]
  },
  {
   "cell_type": "markdown",
   "id": "16f018d0",
   "metadata": {},
   "source": [
    "<br><font size=5><b>Data"
   ]
  },
  {
   "cell_type": "code",
   "execution_count": 45,
   "id": "d41a0d17",
   "metadata": {},
   "outputs": [],
   "source": [
    "# Load Dataframe:'basics'\n",
    "basics = pd.read_csv(\"Data/title_basics.csv.gz\", low_memory=False)"
   ]
  },
  {
   "cell_type": "markdown",
   "id": "768c271d",
   "metadata": {},
   "source": [
    "<br><font size=5><b>API Login"
   ]
  },
  {
   "cell_type": "code",
   "execution_count": 12,
   "id": "1a4fc2f6",
   "metadata": {},
   "outputs": [
    {
     "data": {
      "text/plain": [
       "dict_keys(['api-key'])"
      ]
     },
     "execution_count": 12,
     "metadata": {},
     "output_type": "execute_result"
    }
   ],
   "source": [
    "# API login:TMDB\n",
    "with open('/Users/sugan/.secret/TMDB_api.json', 'r') as f:\n",
    "    login = json.load(f)\n",
    "\n",
    "# API_Key\n",
    "tmdb.API_KEY =  login['api-key']\n",
    "login.keys()"
   ]
  },
  {
   "cell_type": "markdown",
   "id": "3f698ffb",
   "metadata": {},
   "source": [
    "<br><font size=5><b>Functions"
   ]
  },
  {
   "cell_type": "code",
   "execution_count": 13,
   "id": "a983b957",
   "metadata": {},
   "outputs": [],
   "source": [
    "# Revenue-Budget-Rating\n",
    "def revenueBudgetRating(movie_id):\n",
    "    \n",
    "    # Get movie object for current id\n",
    "    movie = tmdb.Movies(movie_id)\n",
    "    \n",
    "    # Save .info .releases dictionaries\n",
    "    info = movie.info()\n",
    "    releases = movie.releases()\n",
    "    \n",
    "    # Loop through countries in releases\n",
    "    for c in releases['countries']:\n",
    "        # if the country abbreviation=US\n",
    "        if c['iso_3166_1' ]=='US':\n",
    "           #save the \"certification\" key in .info\n",
    "           info['certification'] = c['certification']\n",
    "    \n",
    "    return info"
   ]
  },
  {
   "cell_type": "code",
   "execution_count": 49,
   "id": "63b030ac",
   "metadata": {},
   "outputs": [],
   "source": [
    "# Dumping to Json\n",
    "def write_json(new_data, filename): \n",
    "    \"Adapted from: https://www.geeksforgeeks.org/append-to-json-file-using-python/\"\n",
    "    with open(filename,'r+') as file:\n",
    "        # Load existing data into dict\n",
    "        file_data = json.load(file)\n",
    "        \n",
    "        # Choose extend or append\n",
    "        if (type(new_data) == list) & (type(file_data) == list):\n",
    "            file_data.extend(new_data)\n",
    "        else:\n",
    "             file_data.append(new_data)\n",
    "                \n",
    "        # Sets file's current position at offset\n",
    "        file.seek(0)\n",
    "        # Convert back to json\n",
    "        json.dump(file_data, file)"
   ]
  },
  {
   "cell_type": "markdown",
   "id": "f568b7d7",
   "metadata": {},
   "source": [
    "<br><font size=5><b>Designation"
   ]
  },
  {
   "cell_type": "code",
   "execution_count": 36,
   "id": "d8019304",
   "metadata": {},
   "outputs": [
    {
     "data": {
      "text/plain": [
       "['title_akas.csv.gz', 'title_basics.csv.gz', 'title_ratings.csv.gz']"
      ]
     },
     "execution_count": 36,
     "metadata": {},
     "output_type": "execute_result"
    }
   ],
   "source": [
    "# Designate a folder\n",
    "FOLDER = \"Data/\"\n",
    "os.makedirs(FOLDER, exist_ok=True)\n",
    "os.listdir(FOLDER)"
   ]
  },
  {
   "cell_type": "markdown",
   "id": "78decfcd",
   "metadata": {},
   "source": [
    "<br><font size=5><b>Loop Components"
   ]
  },
  {
   "cell_type": "code",
   "execution_count": 46,
   "id": "356f9854",
   "metadata": {},
   "outputs": [],
   "source": [
    "# Required Lists for the Loop\n",
    "# The Years List\n",
    "YEARS_TO_GET = [2000,2001]"
   ]
  },
  {
   "cell_type": "code",
   "execution_count": 69,
   "id": "439138e2",
   "metadata": {},
   "outputs": [],
   "source": [
    "# The Errors list\n",
    "errors = []"
   ]
  },
  {
   "cell_type": "markdown",
   "id": "f6385602",
   "metadata": {},
   "source": [
    "<br><font size=5><b>API Call"
   ]
  },
  {
   "cell_type": "code",
   "execution_count": 81,
   "id": "bd1d77e7",
   "metadata": {},
   "outputs": [
    {
     "data": {
      "application/vnd.jupyter.widget-view+json": {
       "model_id": "0a00640d3d06427cb71500ff7877a3f2",
       "version_major": 2,
       "version_minor": 0
      },
      "text/plain": [
       "YEARS:   0%|          | 0/2 [00:00<?, ?it/s]"
      ]
     },
     "metadata": {},
     "output_type": "display_data"
    },
    {
     "data": {
      "application/vnd.jupyter.widget-view+json": {
       "model_id": "6e9d4299130542bf9ad2c89e6be8dad6",
       "version_major": 2,
       "version_minor": 0
      },
      "text/plain": [
       "Movies from 2000:   0%|          | 0/1429 [00:00<?, ?it/s]"
      ]
     },
     "metadata": {},
     "output_type": "display_data"
    },
    {
     "data": {
      "application/vnd.jupyter.widget-view+json": {
       "model_id": "a15d469f66f4443bb032a38c4e162bf9",
       "version_major": 2,
       "version_minor": 0
      },
      "text/plain": [
       "Movies from 2001:   0%|          | 0/1545 [00:00<?, ?it/s]"
      ]
     },
     "metadata": {},
     "output_type": "display_data"
    }
   ],
   "source": [
    "## API Call\n",
    "## OUTER LOOP\n",
    "for YEAR in tqdm_notebook(YEARS_TO_GET, desc='YEARS', position=0, colour='violet'):\n",
    "\n",
    "    #Defining the JSON file to store results for year\n",
    "    JSON_FILE = f'{FOLDER}tmdb_api_results_{YEAR}.json'\n",
    "\n",
    "    # Check if file exists\n",
    "    file_exists = os.path.isfile(JSON_FILE)\n",
    "\n",
    "    # If it does not exist: create it\n",
    "    if file_exists == False:\n",
    "    # Save an empty dict with just \"imdb_id\" to the new json file.\n",
    "        with open(JSON_FILE,'w') as f:\n",
    "            json.dump([{'imdb_id':0}],f)\n",
    "\n",
    "    # Define/filter the IDs to call\n",
    "    df = basics.loc[basics['startYear']==YEAR].copy()\n",
    "\n",
    "    # Saving movie ids to list\n",
    "    movie_ids = df['tconst'].copy()\n",
    "\n",
    "    # Load existing data from json into a dataframe called \"previous_df\"\n",
    "    previous_df = pd.read_json(JSON_FILE)\n",
    "\n",
    "    # Filter out any ids that are already in the JSON_FILE\n",
    "    movie_ids_to_get = movie_ids[~movie_ids.isin(previous_df['imdb_id'])]\n",
    "\n",
    "    ## INNER LOOP\n",
    "    # Get index and movie id from list\n",
    "    for movie_id in tqdm_notebook(movie_ids_to_get,\n",
    "                                  desc=f'Movies from {YEAR}',\n",
    "                                  position=1,\n",
    "                                  leave=True):\n",
    "        try:\n",
    "            # Retrieve then data for the movie id\n",
    "            temp = revenueBudgetRating(movie_id)  \n",
    "            # Append/extend results to existing file using a pre-made function\n",
    "            write_json(temp,JSON_FILE)\n",
    "            # Short 20 ms sleep to prevent overwhelming server\n",
    "            time.sleep(0.01)\n",
    "\n",
    "        except Exception as e:\n",
    "            errors.append([movie_id, e])\n",
    "            \n",
    "    ## END OF INNER LOOP\n",
    "\n",
    "    final_year_df = pd.read_json(JSON_FILE)\n",
    "    final_year_df.to_csv(f\"{FOLDER}final_tmdb_data_{YEAR}.csv.gz\", compression=\"gzip\", index=False)\n",
    "\n",
    "## END OF OUTER LOOP"
   ]
  },
  {
   "cell_type": "markdown",
   "id": "eb889d7d",
   "metadata": {},
   "source": [
    "<br><font size=5><b>Result"
   ]
  },
  {
   "cell_type": "markdown",
   "id": "057087bd",
   "metadata": {},
   "source": [
    "<b>1. Revenue-Budget-Rating"
   ]
  },
  {
   "cell_type": "code",
   "execution_count": 121,
   "id": "ea08d550",
   "metadata": {
    "scrolled": false
   },
   "outputs": [
    {
     "data": {
      "text/html": [
       "<div>\n",
       "<style scoped>\n",
       "    .dataframe tbody tr th:only-of-type {\n",
       "        vertical-align: middle;\n",
       "    }\n",
       "\n",
       "    .dataframe tbody tr th {\n",
       "        vertical-align: top;\n",
       "    }\n",
       "\n",
       "    .dataframe thead th {\n",
       "        text-align: right;\n",
       "    }\n",
       "</style>\n",
       "<table border=\"1\" class=\"dataframe\">\n",
       "  <thead>\n",
       "    <tr style=\"text-align: right;\">\n",
       "      <th></th>\n",
       "      <th>imdb_id</th>\n",
       "      <th>revenue</th>\n",
       "      <th>budget</th>\n",
       "      <th>certification</th>\n",
       "    </tr>\n",
       "  </thead>\n",
       "  <tbody>\n",
       "    <tr>\n",
       "      <th>0</th>\n",
       "      <td>0</td>\n",
       "      <td>NaN</td>\n",
       "      <td>NaN</td>\n",
       "      <td>NaN</td>\n",
       "    </tr>\n",
       "    <tr>\n",
       "      <th>1</th>\n",
       "      <td>tt0035423</td>\n",
       "      <td>76019048.0</td>\n",
       "      <td>48000000.0</td>\n",
       "      <td>PG-13</td>\n",
       "    </tr>\n",
       "    <tr>\n",
       "      <th>2</th>\n",
       "      <td>tt0114447</td>\n",
       "      <td>0.0</td>\n",
       "      <td>0.0</td>\n",
       "      <td>NaN</td>\n",
       "    </tr>\n",
       "    <tr>\n",
       "      <th>3</th>\n",
       "      <td>tt0118589</td>\n",
       "      <td>5271666.0</td>\n",
       "      <td>22000000.0</td>\n",
       "      <td>PG-13</td>\n",
       "    </tr>\n",
       "    <tr>\n",
       "      <th>4</th>\n",
       "      <td>tt0118652</td>\n",
       "      <td>0.0</td>\n",
       "      <td>1000000.0</td>\n",
       "      <td>R</td>\n",
       "    </tr>\n",
       "    <tr>\n",
       "      <th>...</th>\n",
       "      <td>...</td>\n",
       "      <td>...</td>\n",
       "      <td>...</td>\n",
       "      <td>...</td>\n",
       "    </tr>\n",
       "    <tr>\n",
       "      <th>1297</th>\n",
       "      <td>tt7797670</td>\n",
       "      <td>0.0</td>\n",
       "      <td>0.0</td>\n",
       "      <td>NaN</td>\n",
       "    </tr>\n",
       "    <tr>\n",
       "      <th>1298</th>\n",
       "      <td>tt7797790</td>\n",
       "      <td>0.0</td>\n",
       "      <td>0.0</td>\n",
       "      <td>NaN</td>\n",
       "    </tr>\n",
       "    <tr>\n",
       "      <th>1299</th>\n",
       "      <td>tt8665056</td>\n",
       "      <td>0.0</td>\n",
       "      <td>0.0</td>\n",
       "      <td></td>\n",
       "    </tr>\n",
       "    <tr>\n",
       "      <th>1300</th>\n",
       "      <td>tt8795764</td>\n",
       "      <td>0.0</td>\n",
       "      <td>0.0</td>\n",
       "      <td>NR</td>\n",
       "    </tr>\n",
       "    <tr>\n",
       "      <th>1301</th>\n",
       "      <td>tt9071078</td>\n",
       "      <td>0.0</td>\n",
       "      <td>0.0</td>\n",
       "      <td>NaN</td>\n",
       "    </tr>\n",
       "  </tbody>\n",
       "</table>\n",
       "<p>1302 rows × 4 columns</p>\n",
       "</div>"
      ],
      "text/plain": [
       "        imdb_id     revenue      budget certification\n",
       "0             0         NaN         NaN          NaN \n",
       "1     tt0035423  76019048.0  48000000.0        PG-13 \n",
       "2     tt0114447         0.0         0.0          NaN \n",
       "3     tt0118589   5271666.0  22000000.0        PG-13 \n",
       "4     tt0118652         0.0   1000000.0            R \n",
       "...         ...         ...         ...          ... \n",
       "1297  tt7797670         0.0         0.0          NaN \n",
       "1298  tt7797790         0.0         0.0          NaN \n",
       "1299  tt8665056         0.0         0.0              \n",
       "1300  tt8795764         0.0         0.0           NR \n",
       "1301  tt9071078         0.0         0.0          NaN \n",
       "\n",
       "[1302 rows x 4 columns]"
      ]
     },
     "execution_count": 121,
     "metadata": {},
     "output_type": "execute_result"
    }
   ],
   "source": [
    "# Revenue-Budget-Rating\n",
    "final_year_df[['imdb_id','revenue','budget','certification']]"
   ]
  },
  {
   "cell_type": "markdown",
   "id": "cc9384fa",
   "metadata": {},
   "source": [
    "<b>2. Errors"
   ]
  },
  {
   "cell_type": "code",
   "execution_count": 82,
   "id": "441d5b3a",
   "metadata": {},
   "outputs": [
    {
     "data": {
      "text/html": [
       "<div>\n",
       "<style scoped>\n",
       "    .dataframe tbody tr th:only-of-type {\n",
       "        vertical-align: middle;\n",
       "    }\n",
       "\n",
       "    .dataframe tbody tr th {\n",
       "        vertical-align: top;\n",
       "    }\n",
       "\n",
       "    .dataframe thead th {\n",
       "        text-align: right;\n",
       "    }\n",
       "</style>\n",
       "<table border=\"1\" class=\"dataframe\">\n",
       "  <thead>\n",
       "    <tr style=\"text-align: right;\">\n",
       "      <th></th>\n",
       "      <th>Movie_Id</th>\n",
       "      <th>Errors: Total 469</th>\n",
       "    </tr>\n",
       "  </thead>\n",
       "  <tbody>\n",
       "    <tr>\n",
       "      <th>0</th>\n",
       "      <td>tt0115937</td>\n",
       "      <td>404 Client Error: Not Found for url: https://api.themoviedb.org/3/movie/tt0115937?api_key=c38104ee477e47aaa262c788d50e6564</td>\n",
       "    </tr>\n",
       "    <tr>\n",
       "      <th>1</th>\n",
       "      <td>tt0116628</td>\n",
       "      <td>404 Client Error: Not Found for url: https://api.themoviedb.org/3/movie/tt0116628?api_key=c38104ee477e47aaa262c788d50e6564</td>\n",
       "    </tr>\n",
       "    <tr>\n",
       "      <th>2</th>\n",
       "      <td>tt0118710</td>\n",
       "      <td>404 Client Error: Not Found for url: https://api.themoviedb.org/3/movie/tt0118710?api_key=c38104ee477e47aaa262c788d50e6564</td>\n",
       "    </tr>\n",
       "    <tr>\n",
       "      <th>3</th>\n",
       "      <td>tt0115937</td>\n",
       "      <td>404 Client Error: Not Found for url: https://api.themoviedb.org/3/movie/tt0115937?api_key=c38104ee477e47aaa262c788d50e6564</td>\n",
       "    </tr>\n",
       "    <tr>\n",
       "      <th>4</th>\n",
       "      <td>tt0116628</td>\n",
       "      <td>404 Client Error: Not Found for url: https://api.themoviedb.org/3/movie/tt0116628?api_key=c38104ee477e47aaa262c788d50e6564</td>\n",
       "    </tr>\n",
       "    <tr>\n",
       "      <th>...</th>\n",
       "      <td>...</td>\n",
       "      <td>...</td>\n",
       "    </tr>\n",
       "    <tr>\n",
       "      <th>464</th>\n",
       "      <td>tt8846956</td>\n",
       "      <td>404 Client Error: Not Found for url: https://api.themoviedb.org/3/movie/tt8846956?api_key=c38104ee477e47aaa262c788d50e6564</td>\n",
       "    </tr>\n",
       "    <tr>\n",
       "      <th>465</th>\n",
       "      <td>tt9212730</td>\n",
       "      <td>404 Client Error: Not Found for url: https://api.themoviedb.org/3/movie/tt9212730?api_key=c38104ee477e47aaa262c788d50e6564</td>\n",
       "    </tr>\n",
       "    <tr>\n",
       "      <th>466</th>\n",
       "      <td>tt9228234</td>\n",
       "      <td>404 Client Error: Not Found for url: https://api.themoviedb.org/3/movie/tt9228234?api_key=c38104ee477e47aaa262c788d50e6564</td>\n",
       "    </tr>\n",
       "    <tr>\n",
       "      <th>467</th>\n",
       "      <td>tt9555974</td>\n",
       "      <td>404 Client Error: Not Found for url: https://api.themoviedb.org/3/movie/tt9555974?api_key=c38104ee477e47aaa262c788d50e6564</td>\n",
       "    </tr>\n",
       "    <tr>\n",
       "      <th>468</th>\n",
       "      <td>tt9578462</td>\n",
       "      <td>404 Client Error: Not Found for url: https://api.themoviedb.org/3/movie/tt9578462?api_key=c38104ee477e47aaa262c788d50e6564</td>\n",
       "    </tr>\n",
       "  </tbody>\n",
       "</table>\n",
       "<p>469 rows × 2 columns</p>\n",
       "</div>"
      ],
      "text/plain": [
       "      Movie_Id  \\\n",
       "0    tt0115937   \n",
       "1    tt0116628   \n",
       "2    tt0118710   \n",
       "3    tt0115937   \n",
       "4    tt0116628   \n",
       "..         ...   \n",
       "464  tt8846956   \n",
       "465  tt9212730   \n",
       "466  tt9228234   \n",
       "467  tt9555974   \n",
       "468  tt9578462   \n",
       "\n",
       "                                                                                                              Errors: Total 469  \n",
       "0    404 Client Error: Not Found for url: https://api.themoviedb.org/3/movie/tt0115937?api_key=c38104ee477e47aaa262c788d50e6564  \n",
       "1    404 Client Error: Not Found for url: https://api.themoviedb.org/3/movie/tt0116628?api_key=c38104ee477e47aaa262c788d50e6564  \n",
       "2    404 Client Error: Not Found for url: https://api.themoviedb.org/3/movie/tt0118710?api_key=c38104ee477e47aaa262c788d50e6564  \n",
       "3    404 Client Error: Not Found for url: https://api.themoviedb.org/3/movie/tt0115937?api_key=c38104ee477e47aaa262c788d50e6564  \n",
       "4    404 Client Error: Not Found for url: https://api.themoviedb.org/3/movie/tt0116628?api_key=c38104ee477e47aaa262c788d50e6564  \n",
       "..                                                                                                                          ...  \n",
       "464  404 Client Error: Not Found for url: https://api.themoviedb.org/3/movie/tt8846956?api_key=c38104ee477e47aaa262c788d50e6564  \n",
       "465  404 Client Error: Not Found for url: https://api.themoviedb.org/3/movie/tt9212730?api_key=c38104ee477e47aaa262c788d50e6564  \n",
       "466  404 Client Error: Not Found for url: https://api.themoviedb.org/3/movie/tt9228234?api_key=c38104ee477e47aaa262c788d50e6564  \n",
       "467  404 Client Error: Not Found for url: https://api.themoviedb.org/3/movie/tt9555974?api_key=c38104ee477e47aaa262c788d50e6564  \n",
       "468  404 Client Error: Not Found for url: https://api.themoviedb.org/3/movie/tt9578462?api_key=c38104ee477e47aaa262c788d50e6564  \n",
       "\n",
       "[469 rows x 2 columns]"
      ]
     },
     "execution_count": 82,
     "metadata": {},
     "output_type": "execute_result"
    }
   ],
   "source": [
    "# Errors\n",
    "pd.DataFrame(errors, columns=['Movie_Id',f'Errors: Total {len(errors)}'])"
   ]
  },
  {
   "cell_type": "markdown",
   "id": "256ac876",
   "metadata": {},
   "source": [
    "Information courtesy of\n",
    "IMDb\n",
    "(https://www.imdb.com). Used with permission.\n",
    "<br><img src=\"https://www.themoviedb.org/assets/2/v4/logos/v2/blue_long_2-9665a76b1ae401a510ec1e0ca40ddcb3b0cfe45f1d51b77a308fea0845885648.svg\" align=\"left\" width=470 alt=\"My Image\" />"
   ]
  }
 ],
 "metadata": {
  "kernelspec": {
   "display_name": "Python (dojo-env)",
   "language": "python",
   "name": "dojo-env"
  },
  "language_info": {
   "codemirror_mode": {
    "name": "ipython",
    "version": 3
   },
   "file_extension": ".py",
   "mimetype": "text/x-python",
   "name": "python",
   "nbconvert_exporter": "python",
   "pygments_lexer": "ipython3",
   "version": "3.9.15"
  },
  "toc": {
   "base_numbering": 1,
   "nav_menu": {},
   "number_sections": false,
   "sideBar": true,
   "skip_h1_title": false,
   "title_cell": "Table of Contents",
   "title_sidebar": "Contents",
   "toc_cell": false,
   "toc_position": {},
   "toc_section_display": true,
   "toc_window_display": false
  }
 },
 "nbformat": 4,
 "nbformat_minor": 5
}
